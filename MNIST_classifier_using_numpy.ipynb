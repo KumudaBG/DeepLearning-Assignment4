{
  "nbformat": 4,
  "nbformat_minor": 0,
  "metadata": {
    "colab": {
      "name": "MNIST classifier using numpy.ipynb",
      "provenance": [],
      "include_colab_link": true
    },
    "kernelspec": {
      "name": "python3",
      "display_name": "Python 3"
    },
    "language_info": {
      "name": "python"
    }
  },
  "cells": [
    {
      "cell_type": "markdown",
      "metadata": {
        "id": "view-in-github",
        "colab_type": "text"
      },
      "source": [
        "<a href=\"https://colab.research.google.com/github/KumudaBG/DeepLearning-Assignment4/blob/main/MNIST_classifier_using_numpy.ipynb\" target=\"_parent\"><img src=\"https://colab.research.google.com/assets/colab-badge.svg\" alt=\"Open In Colab\"/></a>"
      ]
    },
    {
      "cell_type": "code",
      "metadata": {
        "id": "QqZ2FrILXxFg"
      },
      "source": [
        "import sys,numpy as np\n",
        "from keras.datasets import mnist\n",
        "from keras.preprocessing.image import ImageDataGenerator\n",
        "from matplotlib import pyplot as plt"
      ],
      "execution_count": 28,
      "outputs": []
    },
    {
      "cell_type": "markdown",
      "metadata": {
        "id": "WyzFms9IcQ9s"
      },
      "source": [
        "#Load Data"
      ]
    },
    {
      "cell_type": "code",
      "metadata": {
        "colab": {
          "base_uri": "https://localhost:8080/"
        },
        "id": "a7OKkIgWcQMR",
        "outputId": "5ca68170-e8e8-4c10-f754-cddb18ba68f1"
      },
      "source": [
        "(xtrain,ytrain),(xtest,ytest)=mnist.load_data()"
      ],
      "execution_count": 3,
      "outputs": [
        {
          "output_type": "stream",
          "text": [
            "Downloading data from https://storage.googleapis.com/tensorflow/tf-keras-datasets/mnist.npz\n",
            "11493376/11490434 [==============================] - 0s 0us/step\n"
          ],
          "name": "stdout"
        }
      ]
    },
    {
      "cell_type": "code",
      "metadata": {
        "colab": {
          "base_uri": "https://localhost:8080/"
        },
        "id": "zUdYRJcisOdd",
        "outputId": "003be905-a61d-46be-ad95-0558b8129d38"
      },
      "source": [
        "print(\"training set x shape: \",xtrain.shape)\n",
        "print(\"test set x shape: \",xtest.shape)"
      ],
      "execution_count": 4,
      "outputs": [
        {
          "output_type": "stream",
          "text": [
            "training set x shape:  (60000, 28, 28)\n",
            "test set x shape:  (10000, 28, 28)\n"
          ],
          "name": "stdout"
        }
      ]
    },
    {
      "cell_type": "code",
      "metadata": {
        "colab": {
          "base_uri": "https://localhost:8080/",
          "height": 275
        },
        "id": "UpKZ8-oNdm8d",
        "outputId": "eb61e9f5-6324-46ac-9457-9d591c8739a1"
      },
      "source": [
        "plt.figure(figsize=[6,6])\n",
        "for i in range(6):\n",
        "  plt.subplot(3,3,i+1)\n",
        "  plt.title(\"Label: %i\"%ytrain[i])\n",
        "  plt.imshow(xtrain[i].reshape([28,28]),cmap='gray')"
      ],
      "execution_count": 5,
      "outputs": [
        {
          "output_type": "display_data",
          "data": {
            "image/png": "[encoded data removed]",
            "text/plain": [
              "<Figure size 432x432 with 6 Axes>"
            ]
          },
          "metadata": {
            "tags": [],
            "needs_background": "light"
          }
        }
      ]
    },
    {
      "cell_type": "markdown",
      "metadata": {
        "id": "E1ce9bLpcgP5"
      },
      "source": [
        "The xtrain,xtest are two dimensional, converting them into one dimension data"
      ]
    },
    {
      "cell_type": "code",
      "metadata": {
        "id": "7wZfa-WMcfSD"
      },
      "source": [
        "images=xtrain.reshape(len(xtrain),28*28)/255\n",
        "test_images=xtest.reshape(len(xtest),28*28)/255"
      ],
      "execution_count": 6,
      "outputs": []
    },
    {
      "cell_type": "code",
      "metadata": {
        "colab": {
          "base_uri": "https://localhost:8080/"
        },
        "id": "Gm_bAF5FclQV",
        "outputId": "92710498-686b-4669-aa84-fd9f382cb59d"
      },
      "source": [
        "print(\"training set x shape\",images.shape)\n",
        "print(\"test set x shape\",test_images.shape)"
      ],
      "execution_count": 7,
      "outputs": [
        {
          "output_type": "stream",
          "text": [
            "training set x shape (60000, 784)\n",
            "test set x shape (10000, 784)\n"
          ],
          "name": "stdout"
        }
      ]
    },
    {
      "cell_type": "code",
      "metadata": {
        "colab": {
          "base_uri": "https://localhost:8080/"
        },
        "id": "gCB7_kh8coJ_",
        "outputId": "3f08c762-7881-4974-8e83-aeca6dfb7487"
      },
      "source": [
        "print(\"training set y shape: \",ytrain.shape)\n",
        "print(\"test set y shape: \",ytest.shape)"
      ],
      "execution_count": 8,
      "outputs": [
        {
          "output_type": "stream",
          "text": [
            "training set y shape:  (60000,)\n",
            "test set y shape:  (10000,)\n"
          ],
          "name": "stdout"
        }
      ]
    },
    {
      "cell_type": "code",
      "metadata": {
        "id": "-w1EdfNacrLL"
      },
      "source": [
        "one_hot_labels=np.zeros((len(ytrain),10))"
      ],
      "execution_count": 9,
      "outputs": []
    },
    {
      "cell_type": "code",
      "metadata": {
        "id": "dspTURdRctn3"
      },
      "source": [
        "for i,l in enumerate(ytrain):\n",
        "  one_hot_labels[i][l]=1\n",
        "\n",
        "labels=one_hot_labels"
      ],
      "execution_count": 10,
      "outputs": []
    },
    {
      "cell_type": "code",
      "metadata": {
        "id": "NW7LcuZRcv3r"
      },
      "source": [
        "testlabels=np.zeros((len(ytest),10))\n",
        "\n",
        "for i,l in enumerate(ytest):\n",
        "  testlabels[i][l]=1"
      ],
      "execution_count": 11,
      "outputs": []
    },
    {
      "cell_type": "code",
      "metadata": {
        "id": "qHh3XCBfcyRC"
      },
      "source": [
        "np.random.seed(1)"
      ],
      "execution_count": 12,
      "outputs": []
    },
    {
      "cell_type": "markdown",
      "metadata": {
        "id": "hOdX3JMic10J"
      },
      "source": [
        "#Activation function ReLU and its derivative "
      ]
    },
    {
      "cell_type": "code",
      "metadata": {
        "id": "fvrZ3kOPc00-"
      },
      "source": [
        "def relu(x):\n",
        "    return (x>=0)*x"
      ],
      "execution_count": 13,
      "outputs": []
    },
    {
      "cell_type": "code",
      "metadata": {
        "id": "IaYka3aEc5b-"
      },
      "source": [
        "def relu2deriv(output):\n",
        "    return output>=0"
      ],
      "execution_count": 14,
      "outputs": []
    },
    {
      "cell_type": "markdown",
      "metadata": {
        "id": "u1ReF7AxteVp"
      },
      "source": [
        "#Defining Learning Rate, Batch Size "
      ]
    },
    {
      "cell_type": "code",
      "metadata": {
        "id": "Llt1mXHqc9yE"
      },
      "source": [
        "alpha=0.001 #Defining learning rate\n",
        "iterations=10 #Number of iterations\n",
        "hidden_size1=100 #Hidden Layer 1 size\n",
        "pixels=784 #28*28 converted to one dimension feature set\n",
        "num_labels=10 #Labels\n",
        "hidden_size2=100 #Hidden Layer 2 size\n",
        "batchsize=3 #batch size for mini batch gradient descent"
      ],
      "execution_count": 15,
      "outputs": []
    },
    {
      "cell_type": "markdown",
      "metadata": {
        "id": "DGHgSg-qt6Hi"
      },
      "source": [
        "#Weight initialisation"
      ]
    },
    {
      "cell_type": "code",
      "metadata": {
        "id": "Y6QFIXY5dCFa"
      },
      "source": [
        "weights_01=0.2*np.random.random((pixels,hidden_size1))-0.1\n",
        "weights_12=0.2*np.random.random((hidden_size1,hidden_size2))-0.1\n",
        "weights_23=0.2*np.random.random((hidden_size2,num_labels))-0.1"
      ],
      "execution_count": 16,
      "outputs": []
    },
    {
      "cell_type": "markdown",
      "metadata": {
        "id": "m5wRV-7Gsp74"
      },
      "source": [
        "#Data Augmentation"
      ]
    },
    {
      "cell_type": "code",
      "metadata": {
        "id": "3Kvdn26_sn-Y"
      },
      "source": [
        "xtrain_augmented = xtrain\n",
        "ytrain_augmented = ytrain"
      ],
      "execution_count": 17,
      "outputs": []
    },
    {
      "cell_type": "code",
      "metadata": {
        "id": "tlkHGUAPs23k"
      },
      "source": [
        "xtrain_augmented = xtrain_augmented.reshape(-1,28,28,1)"
      ],
      "execution_count": 18,
      "outputs": []
    },
    {
      "cell_type": "code",
      "metadata": {
        "id": "caSmdIp-dRzz"
      },
      "source": [
        "datagen = ImageDataGenerator(\n",
        "        featurewise_center=False, \n",
        "        samplewise_center=False,  \n",
        "        featurewise_std_normalization=False,  \n",
        "        samplewise_std_normalization=False,  \n",
        "        zca_whitening=False,  \n",
        "        rotation_range=10,  \n",
        "        zoom_range = 0.1, \n",
        "        width_shift_range=0.1,  \n",
        "        height_shift_range=0.1, \n",
        "        horizontal_flip=False,  \n",
        "        vertical_flip=False) \n",
        "datagen.fit(xtrain_augmented)"
      ],
      "execution_count": 19,
      "outputs": []
    },
    {
      "cell_type": "code",
      "metadata": {
        "colab": {
          "base_uri": "https://localhost:8080/",
          "height": 191
        },
        "id": "8wmmtBBndUst",
        "outputId": "c47274a5-cd12-4652-f5e7-7d219f326efd"
      },
      "source": [
        "for X_batch, y_batch in datagen.flow(xtrain_augmented, ytrain_augmented, batch_size=6):\n",
        "\t# create a grid of 3x3 images\n",
        "\tfor i in range(6):\n",
        "\t\tplt.subplot(3,3,i+1)\n",
        "\t\tplt.imshow(X_batch[i].reshape(28, 28), cmap=plt.get_cmap('gray'))\n",
        "\t# show the plot\n",
        "\tplt.show()\n",
        "\tbreak"
      ],
      "execution_count": 20,
      "outputs": [
        {
          "output_type": "display_data",
          "data": {
            "image/png": "[encoded data removed]",
            "text/plain": [
              "<Figure size 432x288 with 6 Axes>"
            ]
          },
          "metadata": {
            "tags": [],
            "needs_background": "light"
          }
        }
      ]
    },
    {
      "cell_type": "code",
      "metadata": {
        "id": "CxJItMUQd6AH"
      },
      "source": [
        "def data_augmentation(x_train,y_train,augment_size=5000): \n",
        "        image_generator = ImageDataGenerator(\n",
        "            rotation_range=10,\n",
        "            zoom_range = 0.05, \n",
        "            width_shift_range=0.05,\n",
        "            height_shift_range=0.05,\n",
        "            horizontal_flip=False,\n",
        "            vertical_flip=False, \n",
        "            data_format=\"channels_last\",\n",
        "            zca_whitening=True)\n",
        "        image_generator.fit(x_train, augment=True)       \n",
        "        train_size=len(x_train)\n",
        "        randidx = np.random.randint(train_size, size=augment_size)\n",
        "        x_augmented = x_train[randidx].copy()\n",
        "        y_augmented = y_train[randidx].copy()\n",
        "        x_augmented = image_generator.flow(x_augmented, np.zeros(augment_size),\n",
        "                                    batch_size=augment_size, shuffle=False).next()[0]        \n",
        "        x_train = np.concatenate((x_train, x_augmented))\n",
        "        y_train = np.concatenate((y_train, y_augmented))\n",
        "        train_size = x_train.shape[0]\n",
        "        return x_train, y_train"
      ],
      "execution_count": 21,
      "outputs": []
    },
    {
      "cell_type": "code",
      "metadata": {
        "colab": {
          "base_uri": "https://localhost:8080/"
        },
        "id": "NqvvpMMWd9av",
        "outputId": "b340ec4d-fc63-47e4-da52-14875150bbb4"
      },
      "source": [
        "xtrain = xtrain.reshape((xtrain.shape[0], 28, 28,1))\n",
        "\n",
        "xtrain,ytrain=data_augmentation(xtrain,ytrain)"
      ],
      "execution_count": 22,
      "outputs": [
        {
          "output_type": "stream",
          "text": [
            "/usr/local/lib/python3.7/dist-packages/keras_preprocessing/image/image_data_generator.py:337: UserWarning: This ImageDataGenerator specifies `zca_whitening`, which overrides setting of `featurewise_center`.\n",
            "  warnings.warn('This ImageDataGenerator specifies '\n"
          ],
          "name": "stderr"
        }
      ]
    },
    {
      "cell_type": "markdown",
      "metadata": {
        "id": "WakkKJfqtsNj"
      },
      "source": [
        "#Model Training -Using DropOut"
      ]
    },
    {
      "cell_type": "code",
      "metadata": {
        "colab": {
          "base_uri": "https://localhost:8080/"
        },
        "id": "N9ZSFHxOeAqF",
        "outputId": "ac9db009-5e78-4042-a029-065394fe5fe4"
      },
      "source": [
        "\n",
        "#Iteratively carry out the forward and back propagation\n",
        "for j in range(iterations):\n",
        "  error,correct_cnt=(0.0,0)\n",
        "\n",
        "  #Carry out mini batch gradient descent. Calculate the batches and iterate over it.\n",
        "  for i in range(int(len(images)/batchsize)):\n",
        "\n",
        "    #Calculate the batch start and end value to fetch to those images.\n",
        "    batchstart,batchend=((i*batchsize),((i+1)*batchsize))\n",
        "\n",
        "    #Select the first layer as the images from the batch size.\n",
        "    layer_0=images[batchstart:batchend]\n",
        "\n",
        "    #Create the first layer by multiplying the imput layer with the weights and passing it through Relu activation function. \n",
        "    layer_1=relu(np.dot(layer_0,weights_01))\n",
        "\n",
        "    #Drop few neurons from the layers to avoid overfitting the model\n",
        "    dropout_mask=np.random.randint(2,size=layer_1.shape)\n",
        "    layer_1*=dropout_mask*2\n",
        "\n",
        "    #Create the second layer by multiplying layer 1 with its input layer's weights\n",
        "    layer_2=np.dot(layer_1,weights_12)\n",
        "\n",
        "    #Create the third layer by multiplying layer 2 with its input layer's weights\n",
        "    layer_3=np.dot(layer_2,weights_23)\n",
        "\n",
        "    #Calculate the error by finding the difference between training final layer data and the calculated final layer data\n",
        "    error+=np.sum((labels[batchstart:batchend]-layer_3)**2)\n",
        "\n",
        "    #Conduct the backpropagation\n",
        "    for k in range(batchsize):\n",
        "\n",
        "      correct_cnt+=int(np.argmax(layer_3[k:k+1])==np.argmax(labels[batchstart+k:batchstart+k+1]))\n",
        "\n",
        "      #Calculate the third layer delta by taking the difference of expected and actual output\n",
        "      layer_3_delta=(labels[batchstart:batchend]-layer_3)/batchsize\n",
        "\n",
        "      #Calculate the second layer delta by multiplying the third layer delta and weights from second layer\n",
        "      layer_2_delta=layer_3_delta.dot(weights_23.T)\n",
        "\n",
        "      #Calculate the second layer delta by multiplying the third layer delta and weights from second layer and its Relu derivative. \n",
        "      #As Relu is applied on this layer.\n",
        "      layer_1_delta=layer_2_delta.dot(weights_12.T)*relu2deriv(layer_1)\n",
        "\n",
        "      #Update the weight values\n",
        "      weights_23+=alpha*layer_2.T.dot(layer_3_delta)\n",
        "      weights_12+=alpha*layer_1.T.dot(layer_2_delta)\n",
        "      weights_01+=alpha*layer_0.T.dot(layer_1_delta)\n",
        "\n",
        "\n",
        "  #Print the ratio of error and correct values for every iteration\n",
        "  print(\"I\"+str(j))\n",
        "  print(\"Error \"+str(error/float(len(images)))[0:5],\"Correct \"+str(correct_cnt/float(len(images))))"
      ],
      "execution_count": 23,
      "outputs": [
        {
          "output_type": "stream",
          "text": [
            "I0\n",
            "Error 0.549 Correct 0.6961\n",
            "I1\n",
            "Error 0.453 Correct 0.7793666666666667\n",
            "I2\n",
            "Error 0.432 Correct 0.7939666666666667\n",
            "I3\n",
            "Error 0.424 Correct 0.7987833333333333\n",
            "I4\n",
            "Error 0.419 Correct 0.8035666666666667\n",
            "I5\n",
            "Error 0.414 Correct 0.8067333333333333\n",
            "I6\n",
            "Error 0.413 Correct 0.8073166666666667\n",
            "I7\n",
            "Error 0.413 Correct 0.80685\n",
            "I8\n",
            "Error 0.413 Correct 0.8093666666666667\n",
            "I9\n",
            "Error 0.413 Correct 0.8082166666666667\n"
          ],
          "name": "stdout"
        }
      ]
    },
    {
      "cell_type": "markdown",
      "metadata": {
        "id": "31tYJQnruItw"
      },
      "source": [
        "#Model Testing"
      ]
    },
    {
      "cell_type": "code",
      "metadata": {
        "colab": {
          "base_uri": "https://localhost:8080/"
        },
        "id": "Xcg-6HB3eGbE",
        "outputId": "7d6992fe-ed8d-4b81-90e5-12aa1663fd0a"
      },
      "source": [
        "#store predicted values in numpy array\n",
        "predictedlabels= np.zeros((len(testlabels), 10))\n",
        "if(j%10==0 or j==iterations-1):\n",
        "  error,correct_cnt=(0.0,0)\n",
        "\n",
        "  #For the test images as the input, apply the calculated weight values during the training phase to find the labels of the images.\n",
        "  for i in range(len(test_images)):\n",
        "\n",
        "    layer_0=test_images[i:i+1]\n",
        "    layer_1=relu(np.dot(layer_0,weights_01))\n",
        "    layer_2=np.dot(layer_1,weights_12)\n",
        "    layer_3=np.dot(layer_2,weights_23)\n",
        "    predictedlabels[i]=layer_3\n",
        "    #Calculate the difference between the expected and actual values. Calculate the error and correct values predicted.\n",
        "    error+=np.sum((testlabels[i:i+1]-layer_3)**2)\n",
        "    correct_cnt+=int(np.argmax(layer_3)==np.argmax(testlabels[i:i+1]))\n",
        "    \n",
        "\n",
        "print(\"shape\",testlabels.shape)\n",
        "print(\"shape\",layer_3.shape)\n",
        "error=str(error/float(len(test_images)))[0:5]\n",
        "correct=str(correct_cnt/float(len(test_images)))\n",
        "print(\"Error \"+error)\n",
        "print(\"Correct \"+correct)"
      ],
      "execution_count": 26,
      "outputs": [
        {
          "output_type": "stream",
          "text": [
            "shape (10000, 10)\n",
            "shape (1, 10)\n",
            "Error 0.314\n",
            "Correct 0.8632\n"
          ],
          "name": "stdout"
        }
      ]
    },
    {
      "cell_type": "markdown",
      "metadata": {
        "id": "5WCtXj8WuPpY"
      },
      "source": [
        "##Accuracy of the model"
      ]
    },
    {
      "cell_type": "code",
      "metadata": {
        "colab": {
          "base_uri": "https://localhost:8080/"
        },
        "id": "4NVD4RL5eMUV",
        "outputId": "7a04451c-121a-4669-d200-249dc13fcd04"
      },
      "source": [
        "accuracy=float(correct)/(float(correct)+float(error))\n",
        "accuracy"
      ],
      "execution_count": 27,
      "outputs": [
        {
          "output_type": "execute_result",
          "data": {
            "text/plain": [
              "0.7332653754672103"
            ]
          },
          "metadata": {
            "tags": []
          },
          "execution_count": 27
        }
      ]
    },
    {
      "cell_type": "markdown",
      "metadata": {
        "id": "CjSQej5AuVtL"
      },
      "source": [
        "##Change the dimension of predicted label ndarray to 1 dimension for subjecting to confusion matrix"
      ]
    },
    {
      "cell_type": "code",
      "metadata": {
        "colab": {
          "base_uri": "https://localhost:8080/"
        },
        "id": "ZyVkYAJEqBxL",
        "outputId": "374f390b-decc-4ac0-b2e6-67929aa5f254"
      },
      "source": [
        "predictedlabels[0]"
      ],
      "execution_count": 37,
      "outputs": [
        {
          "output_type": "execute_result",
          "data": {
            "text/plain": [
              "array([-0.03633764, -0.02089278,  0.02039132,  0.11215687, -0.01944423,\n",
              "       -0.0393286 , -0.01887385,  1.05515536, -0.0835215 , -0.01714439])"
            ]
          },
          "metadata": {
            "tags": []
          },
          "execution_count": 37
        }
      ]
    },
    {
      "cell_type": "code",
      "metadata": {
        "colab": {
          "base_uri": "https://localhost:8080/"
        },
        "id": "kZF9MkWZrLcN",
        "outputId": "e74f413b-55a5-4881-d5f2-c9ba3b494596"
      },
      "source": [
        "predicted_labels = np.argmax(predictedlabels, axis=1)#pick the index containing maximum value in the entire row\n",
        "print(predicted_labels[0])\n",
        "type(predicted_labels)"
      ],
      "execution_count": 46,
      "outputs": [
        {
          "output_type": "stream",
          "text": [
            "7\n"
          ],
          "name": "stdout"
        },
        {
          "output_type": "execute_result",
          "data": {
            "text/plain": [
              "numpy.ndarray"
            ]
          },
          "metadata": {
            "tags": []
          },
          "execution_count": 46
        }
      ]
    },
    {
      "cell_type": "markdown",
      "metadata": {
        "id": "NOw-otaVuo8h"
      },
      "source": [
        "##Change the dimension of test label ndarray to 1 dimension for subjecting to confusion matrix"
      ]
    },
    {
      "cell_type": "code",
      "metadata": {
        "colab": {
          "base_uri": "https://localhost:8080/"
        },
        "id": "5JiDSUNpraio",
        "outputId": "cea7011e-5982-4741-80d6-098c90b72d99"
      },
      "source": [
        "testlabels[0]"
      ],
      "execution_count": 41,
      "outputs": [
        {
          "output_type": "execute_result",
          "data": {
            "text/plain": [
              "array([0., 0., 0., 0., 0., 0., 0., 1., 0., 0.])"
            ]
          },
          "metadata": {
            "tags": []
          },
          "execution_count": 41
        }
      ]
    },
    {
      "cell_type": "code",
      "metadata": {
        "colab": {
          "base_uri": "https://localhost:8080/"
        },
        "id": "lb3_g_cVrkX9",
        "outputId": "eeccace4-d494-4783-ee47-ffe47d59b829"
      },
      "source": [
        "test_labels = np.argmax(testlabels, axis=1)#pick the index containing maximum value in the entire row\n",
        "print(test_labels[0])\n",
        "type(test_labels)"
      ],
      "execution_count": 47,
      "outputs": [
        {
          "output_type": "stream",
          "text": [
            "7\n"
          ],
          "name": "stdout"
        },
        {
          "output_type": "execute_result",
          "data": {
            "text/plain": [
              "numpy.ndarray"
            ]
          },
          "metadata": {
            "tags": []
          },
          "execution_count": 47
        }
      ]
    },
    {
      "cell_type": "markdown",
      "metadata": {
        "id": "5QN_UF55tGzf"
      },
      "source": [
        "#Visualization using confusion matrix"
      ]
    },
    {
      "cell_type": "code",
      "metadata": {
        "id": "JTLJwkrgn47y"
      },
      "source": [
        "from sklearn.metrics import confusion_matrix\n",
        "import itertools\n",
        "def plot_confusion_matrix(cm, classes,\n",
        "                          normalize=False,\n",
        "                          title='Confusion matrix',\n",
        "                          cmap=plt.cm.Blues):\n",
        "    \"\"\"\n",
        "    This function prints and plots the confusion matrix.\n",
        "    Normalization can be applied by setting `normalize=True`.\n",
        "    \"\"\"\n",
        "    plt.imshow(cm, interpolation='nearest', cmap=cmap)\n",
        "    plt.title(title)\n",
        "    plt.colorbar()\n",
        "    tick_marks = np.arange(len(classes))\n",
        "    plt.xticks(tick_marks, classes, rotation=45)\n",
        "    plt.yticks(tick_marks, classes)\n",
        "\n",
        "    if normalize:\n",
        "        cm = cm.astype('float') / cm.sum(axis=1)[:, np.newaxis]\n",
        "\n",
        "    thresh = cm.max() / 2.\n",
        "    for i, j in itertools.product(range(cm.shape[0]), range(cm.shape[1])):\n",
        "        plt.text(j, i, cm[i, j],\n",
        "                 horizontalalignment=\"center\",\n",
        "                 color=\"white\" if cm[i, j] > thresh else \"black\")\n",
        "\n",
        "    plt.tight_layout()\n",
        "    plt.ylabel('True label')\n",
        "    plt.xlabel('Predicted label')\n",
        "    plt.show()"
      ],
      "execution_count": 29,
      "outputs": []
    },
    {
      "cell_type": "code",
      "metadata": {
        "colab": {
          "base_uri": "https://localhost:8080/",
          "height": 311
        },
        "id": "heaknCYrp1PH",
        "outputId": "71e8df37-a5eb-4414-b54f-d1b8eb26b155"
      },
      "source": [
        "confusion_matrix = confusion_matrix(test_labels, predicted_labels) \n",
        "plot_confusion_matrix(confusion_matrix, classes = range(10))"
      ],
      "execution_count": 48,
      "outputs": [
        {
          "output_type": "display_data",
          "data": {
            "image/png": "[encoded data removed]",
            "text/plain": [
              "<Figure size 432x288 with 2 Axes>"
            ]
          },
          "metadata": {
            "tags": [],
            "needs_background": "light"
          }
        }
      ]
    }
  ]
}